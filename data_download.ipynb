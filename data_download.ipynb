{
 "cells": [
  {
   "cell_type": "code",
   "execution_count": 1,
   "metadata": {},
   "outputs": [
    {
     "ename": "AttributeError",
     "evalue": "init is no longer a top-level attribute of the pinecone package.\n\nPlease create an instance of the Pinecone class instead.\n\nExample:\n\n    import os\n    from pinecone import Pinecone, ServerlessSpec\n\n    pc = Pinecone(\n        api_key=os.environ.get(\"PINECONE_API_KEY\")\n    )\n\n    # Now do stuff\n    if 'my_index' not in pc.list_indexes().names():\n        pc.create_index(\n            name='my_index', \n            dimension=1536, \n            metric='euclidean',\n            spec=ServerlessSpec(\n                cloud='aws',\n                region='us-west-2'\n            )\n        )\n\n",
     "output_type": "error",
     "traceback": [
      "\u001b[1;31m---------------------------------------------------------------------------\u001b[0m",
      "\u001b[1;31mAttributeError\u001b[0m                            Traceback (most recent call last)",
      "Cell \u001b[1;32mIn[1], line 11\u001b[0m\n\u001b[0;32m      8\u001b[0m load_dotenv(\u001b[38;5;124m'\u001b[39m\u001b[38;5;124m.env.local\u001b[39m\u001b[38;5;124m'\u001b[39m)\n\u001b[0;32m     10\u001b[0m \u001b[38;5;66;03m# Initialize Pinecone\u001b[39;00m\n\u001b[1;32m---> 11\u001b[0m \u001b[43mpinecone\u001b[49m\u001b[38;5;241;43m.\u001b[39;49m\u001b[43minit\u001b[49m\u001b[43m(\u001b[49m\n\u001b[0;32m     12\u001b[0m \u001b[43m    \u001b[49m\u001b[43mapi_key\u001b[49m\u001b[38;5;241;43m=\u001b[39;49m\u001b[43mos\u001b[49m\u001b[38;5;241;43m.\u001b[39;49m\u001b[43mgetenv\u001b[49m\u001b[43m(\u001b[49m\u001b[38;5;124;43m'\u001b[39;49m\u001b[38;5;124;43mPINECONE_API_KEY\u001b[39;49m\u001b[38;5;124;43m'\u001b[39;49m\u001b[43m)\u001b[49m\u001b[43m,\u001b[49m\n\u001b[0;32m     13\u001b[0m \u001b[43m    \u001b[49m\u001b[43menvironment\u001b[49m\u001b[38;5;241;43m=\u001b[39;49m\u001b[43mos\u001b[49m\u001b[38;5;241;43m.\u001b[39;49m\u001b[43mgetenv\u001b[49m\u001b[43m(\u001b[49m\u001b[38;5;124;43m'\u001b[39;49m\u001b[38;5;124;43mPINECONE_ENVIRONMENT\u001b[39;49m\u001b[38;5;124;43m'\u001b[39;49m\u001b[43m)\u001b[49m\n\u001b[0;32m     14\u001b[0m \u001b[43m)\u001b[49m\n\u001b[0;32m     16\u001b[0m \u001b[38;5;66;03m# Connect to the index\u001b[39;00m\n\u001b[0;32m     17\u001b[0m index_name \u001b[38;5;241m=\u001b[39m os\u001b[38;5;241m.\u001b[39mgetenv(\u001b[38;5;124m'\u001b[39m\u001b[38;5;124mPINECONE_INDEX_NAME\u001b[39m\u001b[38;5;124m'\u001b[39m)\n",
      "File \u001b[1;32mc:\\Python310\\lib\\site-packages\\pinecone\\deprecation_warnings.py:39\u001b[0m, in \u001b[0;36minit\u001b[1;34m(*args, **kwargs)\u001b[0m\n\u001b[0;32m     12\u001b[0m     example \u001b[38;5;241m=\u001b[39m \u001b[38;5;124m\"\"\"\u001b[39m\n\u001b[0;32m     13\u001b[0m \u001b[38;5;124m    import os\u001b[39m\n\u001b[0;32m     14\u001b[0m \u001b[38;5;124m    from pinecone import Pinecone, ServerlessSpec\u001b[39m\n\u001b[1;32m   (...)\u001b[0m\n\u001b[0;32m     30\u001b[0m \u001b[38;5;124m        )\u001b[39m\n\u001b[0;32m     31\u001b[0m \u001b[38;5;124m\"\"\"\u001b[39m\n\u001b[0;32m     32\u001b[0m     msg \u001b[38;5;241m=\u001b[39m \u001b[38;5;124mf\u001b[39m\u001b[38;5;124m\"\"\"\u001b[39m\u001b[38;5;124minit is no longer a top-level attribute of the pinecone package.\u001b[39m\n\u001b[0;32m     33\u001b[0m \n\u001b[0;32m     34\u001b[0m \u001b[38;5;124mPlease create an instance of the Pinecone class instead.\u001b[39m\n\u001b[1;32m   (...)\u001b[0m\n\u001b[0;32m     37\u001b[0m \u001b[38;5;132;01m{\u001b[39;00mexample\u001b[38;5;132;01m}\u001b[39;00m\n\u001b[0;32m     38\u001b[0m \u001b[38;5;124m\"\"\"\u001b[39m\n\u001b[1;32m---> 39\u001b[0m     \u001b[38;5;28;01mraise\u001b[39;00m \u001b[38;5;167;01mAttributeError\u001b[39;00m(msg)\n",
      "\u001b[1;31mAttributeError\u001b[0m: init is no longer a top-level attribute of the pinecone package.\n\nPlease create an instance of the Pinecone class instead.\n\nExample:\n\n    import os\n    from pinecone import Pinecone, ServerlessSpec\n\n    pc = Pinecone(\n        api_key=os.environ.get(\"PINECONE_API_KEY\")\n    )\n\n    # Now do stuff\n    if 'my_index' not in pc.list_indexes().names():\n        pc.create_index(\n            name='my_index', \n            dimension=1536, \n            metric='euclidean',\n            spec=ServerlessSpec(\n                cloud='aws',\n                region='us-west-2'\n            )\n        )\n\n"
     ]
    }
   ],
   "source": [
    "import json\n",
    "import os\n",
    "from dotenv import load_dotenv\n",
    "from pinecone import Pinecone\n",
    "from tqdm.auto import tqdm\n",
    "\n",
    "# Load environment variables\n",
    "load_dotenv('.env.local')\n",
    "\n",
    "# Initialize Pinecone\n",
    "pc = Pinecone(api_key=os.getenv('PINECONE_API_KEY'))\n",
    "\n",
    "# Connect to the index\n",
    "index_name = os.getenv('PINECONE_INDEX_NAME')\n",
    "index = pc.Index(index_name)\n",
    "\n",
    "# Function to encode text (you may want to use a more sophisticated encoding method)\n",
    "def simple_encode(text):\n",
    "    return [sum(ord(c) for c in text) / len(text)] * 1536  # 1536 is a common embedding dimension\n",
    "\n",
    "# Load and process the JSON data\n",
    "with open('data/MedDialouge-english_train.json', 'r') as f:\n",
    "    data = json.load(f)\n",
    "\n",
    "# Prepare the data for upsert\n",
    "vectors_to_upsert = []\n",
    "for i, item in enumerate(tqdm(data)):\n",
    "    # Combine all text fields into a single string\n",
    "    text = item['description'] + ' ' + ' '.join(item['utterances'])\n",
    "    \n",
    "    # Create a simple vector encoding (replace with a proper embedding model for better results)\n",
    "    vector = simple_encode(text)\n",
    "    \n",
    "    # Prepare the vector for upsert\n",
    "    vectors_to_upsert.append((str(i), vector, {\"text\": text}))\n",
    "\n",
    "    # Upsert in batches of 100\n",
    "    if len(vectors_to_upsert) == 100:\n",
    "        index.upsert(vectors=vectors_to_upsert)\n",
    "        vectors_to_upsert = []\n",
    "\n",
    "# Upsert any remaining vectors\n",
    "if vectors_to_upsert:\n",
    "    index.upsert(vectors=vectors_to_upsert)\n",
    "\n",
    "print(\"Data upload complete!\")"
   ]
  },
  {
   "cell_type": "code",
   "execution_count": 3,
   "metadata": {},
   "outputs": [
    {
     "name": "stdout",
     "output_type": "stream",
     "text": [
      "Found 3145 indicators\n"
     ]
    },
    {
     "name": "stderr",
     "output_type": "stream",
     "text": [
      "Downloading data: 100%|██████████| 3145/3145 [1:15:49<00:00,  1.45s/it]"
     ]
    },
    {
     "name": "stdout",
     "output_type": "stream",
     "text": [
      "Download complete. Data saved in 'who_gho_data' directory.\n"
     ]
    },
    {
     "name": "stderr",
     "output_type": "stream",
     "text": [
      "\n"
     ]
    }
   ],
   "source": [
    "import requests\n",
    "import json\n",
    "import os\n",
    "import xml.etree.ElementTree as ET\n",
    "from tqdm import tqdm\n",
    "import time\n",
    "import re\n",
    "\n",
    "BASE_URL = \"https://apps.who.int/gho/athena/api/\"\n",
    "\n",
    "def get_indicators():\n",
    "    response = requests.get(f\"{BASE_URL}GHO\")\n",
    "    if response.status_code == 200:\n",
    "        root = ET.fromstring(response.content)\n",
    "        return [code.text for code in root.findall('.//Code')]\n",
    "    else:\n",
    "        print(f\"Failed to fetch indicators. Status code: {response.status_code}\")\n",
    "        return []\n",
    "\n",
    "def xml_to_dict(element):\n",
    "    result = {}\n",
    "    for child in element:\n",
    "        if len(child) == 0:\n",
    "            result[child.tag] = child.text\n",
    "        else:\n",
    "            result[child.tag] = xml_to_dict(child)\n",
    "    return result\n",
    "\n",
    "def get_data(indicator):\n",
    "    url = f\"{BASE_URL}GHO/{indicator}\"\n",
    "    response = requests.get(url)\n",
    "    if response.status_code == 200:\n",
    "        content_type = response.headers.get('Content-Type', '')\n",
    "        if 'json' in content_type:\n",
    "            return response.json()\n",
    "        elif 'xml' in content_type:\n",
    "            root = ET.fromstring(response.content)\n",
    "            return xml_to_dict(root)\n",
    "        else:\n",
    "            print(f\"Unknown content type for {indicator}: {content_type}\")\n",
    "            return None\n",
    "    else:\n",
    "        print(f\"Failed to fetch data for {indicator}. Status code: {response.status_code}\")\n",
    "        return None\n",
    "\n",
    "def save_data(data, filename):\n",
    "    with open(filename, 'w', encoding='utf-8') as f:\n",
    "        json.dump(data, f, ensure_ascii=False, indent=2)\n",
    "\n",
    "def sanitize_filename(filename):\n",
    "    # Remove invalid characters and replace spaces with underscores\n",
    "    return re.sub(r'[\\\\/*?:\"<>|\\n\\r\\t]', '', filename).replace(' ', '_')\n",
    "\n",
    "def main():\n",
    "    if not os.path.exists('who_gho_data'):\n",
    "        os.makedirs('who_gho_data')\n",
    "\n",
    "    indicators = get_indicators()\n",
    "    print(f\"Found {len(indicators)} indicators\")\n",
    "\n",
    "    for indicator in tqdm(indicators, desc=\"Downloading data\"):\n",
    "        data = get_data(indicator)\n",
    "        if data:\n",
    "            safe_indicator = sanitize_filename(indicator)\n",
    "            filename = os.path.join('who_gho_data', f\"{safe_indicator}.json\")\n",
    "            save_data(data, filename)\n",
    "        time.sleep(1)  # Add a delay to avoid overwhelming the server\n",
    "\n",
    "    print(\"Download complete. Data saved in 'who_gho_data' directory.\")\n",
    "\n",
    "if __name__ == \"__main__\":\n",
    "    main()"
   ]
  }
 ],
 "metadata": {
  "kernelspec": {
   "display_name": "Python 3",
   "language": "python",
   "name": "python3"
  },
  "language_info": {
   "codemirror_mode": {
    "name": "ipython",
    "version": 3
   },
   "file_extension": ".py",
   "mimetype": "text/x-python",
   "name": "python",
   "nbconvert_exporter": "python",
   "pygments_lexer": "ipython3",
   "version": "3.10.8"
  }
 },
 "nbformat": 4,
 "nbformat_minor": 2
}
